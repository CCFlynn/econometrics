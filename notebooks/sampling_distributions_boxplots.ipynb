{
 "cells": [
  {
   "cell_type": "markdown",
   "metadata": {},
   "source": [
    "# Three sampling distributions"
   ]
  },
  {
   "cell_type": "markdown",
   "metadata": {},
   "source": [
    "Three estimators of the mean of the log normal distribution and their sampling distributions.  A boxplot figure from chapter 9."
   ]
  },
  {
   "cell_type": "code",
   "execution_count": 2,
   "metadata": {
    "collapsed": true
   },
   "outputs": [],
   "source": [
    "%matplotlib inline"
   ]
  },
  {
   "cell_type": "code",
   "execution_count": 3,
   "metadata": {
    "collapsed": false
   },
   "outputs": [
    {
     "name": "stderr",
     "output_type": "stream",
     "text": [
      "/home/john/anaconda/lib/python2.7/site-packages/seaborn/categorical.py:1613: UserWarning: The boxplot API has been changed. Attempting to adjust your arguments for the new API (which might not work). Please update your code. See the version 0.6 release notes for more info.\n",
      "  warnings.warn(msg, UserWarning)\n"
     ]
    },
    {
     "data": {
      "image/png": "[encoded data removed]",
      "text/plain": [
       "<matplotlib.figure.Figure at 0x7f9cafba8c90>"
      ]
     },
     "metadata": {},
     "output_type": "display_data"
    }
   ],
   "source": [
    "\n",
    "import pandas as pd\n",
    "import matplotlib.pyplot as plt\n",
    "import numpy as np\n",
    "from scipy.stats import norm\n",
    "\n",
    "import seaborn as sns\n",
    "sns.set(style=\"ticks\")\n",
    "\n",
    "sns.set_context(\"talk\")\n",
    "\n",
    "N = 20\n",
    "num_reps = 100\n",
    "v = 1.0\n",
    "\n",
    "true_mean = np.exp(v/2)  # Lognormal case\n",
    "\n",
    "outcomes_mean = np.empty(num_reps)\n",
    "outcomes_midrange = np.empty(num_reps)\n",
    "outcomes_mle = np.empty(num_reps)\n",
    "\n",
    "for i in range(num_reps):\n",
    "    y = norm.rvs(size=N)\n",
    "    x = np.exp(y)\n",
    "    mu_hat = y.mean()\n",
    "    sigma2_hat = y.var()\n",
    "    outcomes_mle[i] = np.exp(mu_hat + sigma2_hat/2.0)\n",
    "    outcomes_mean[i] = x.mean()\n",
    "    outcomes_midrange[i] = 0.5 * (x.max() - x.min())\n",
    "\n",
    "\n",
    "d = {'sample mean' : outcomes_mean,\n",
    "        'mle' : outcomes_mle,\n",
    "        'midrange' : outcomes_midrange}\n",
    "\n",
    "df = pd.DataFrame(d)\n",
    "\n",
    "fig, ax = plt.subplots()\n",
    "\n",
    "sns.boxplot(data=df, vert=False, palette=\"PRGn\")\n",
    "sns.despine(offset=10, trim=True)\n",
    "\n",
    "plt.show()\n"
   ]
  },
  {
   "cell_type": "code",
   "execution_count": null,
   "metadata": {
    "collapsed": true
   },
   "outputs": [],
   "source": []
  }
 ],
 "metadata": {
  "kernelspec": {
   "display_name": "Python 2",
   "language": "python",
   "name": "python2"
  },
  "language_info": {
   "codemirror_mode": {
    "name": "ipython",
    "version": 2
   },
   "file_extension": ".py",
   "mimetype": "text/x-python",
   "name": "python",
   "nbconvert_exporter": "python",
   "pygments_lexer": "ipython2",
   "version": "2.7.10"
  }
 },
 "nbformat": 4,
 "nbformat_minor": 0
}
